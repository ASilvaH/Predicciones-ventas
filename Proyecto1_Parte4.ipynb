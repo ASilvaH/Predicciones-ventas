{
  "nbformat": 4,
  "nbformat_minor": 0,
  "metadata": {
    "colab": {
      "name": "Proyecto1_Parte4.ipynb",
      "provenance": []
    },
    "kernelspec": {
      "name": "python3",
      "display_name": "Python 3"
    },
    "language_info": {
      "name": "python"
    }
  },
  "cells": [
    {
      "cell_type": "markdown",
      "source": [
        "El análisis hecho en este trabajo así como la elección de la data a graficar fue basado en el trabajo hecho el el sitio https://rpubs.com/LNRpubs/RetailSalesPrediction Este sitio web me permitió entender cuales son los aspectos relevantes al hacer un análisis estadístico y que data usar para obtener distintos gráficos.  "
      ],
      "metadata": {
        "id": "vtQEqk1v42hL"
      }
    },
    {
      "cell_type": "code",
      "execution_count": 1,
      "metadata": {
        "colab": {
          "base_uri": "https://localhost:8080/"
        },
        "id": "Rc5q6S-k1FRu",
        "outputId": "490336f5-f073-4021-d372-70b6588680b2"
      },
      "outputs": [
        {
          "output_type": "stream",
          "name": "stdout",
          "text": [
            "Mounted at /content/drive\n"
          ]
        }
      ],
      "source": [
        "from google.colab import drive\n",
        "drive.mount('/content/drive')"
      ]
    },
    {
      "cell_type": "code",
      "source": [
        "import pandas as pd\n",
        "import matplotlib.pyplot as plt \n",
        "\n",
        "filename = '/content/drive/MyDrive/CargaData/ExportadoViaColab/sales_predictions_ALLDATA.csv'\n",
        "ventas_df = pd.read_csv(filename)"
      ],
      "metadata": {
        "id": "w9FsbyWK1MLI"
      },
      "execution_count": 4,
      "outputs": []
    },
    {
      "cell_type": "code",
      "source": [
        "ventas_df.head()\n",
        "#ventas_df.info()\n",
        "#Eliminar notación científica\n",
        "plt.ticklabel_format(useOffset=False, style='plain')\n"
      ],
      "metadata": {
        "id": "2QASa-wU1Q01"
      },
      "execution_count": null,
      "outputs": []
    },
    {
      "cell_type": "code",
      "source": [
        "ventas_df['Item_Outlet_Sales'].hist(bins = 100, color='orange');"
      ],
      "metadata": {
        "colab": {
          "base_uri": "https://localhost:8080/",
          "height": 265
        },
        "id": "ScZiAcq44IWG",
        "outputId": "8182bd2f-d038-4028-8839-d504c42a020e"
      },
      "execution_count": 63,
      "outputs": [
        {
          "output_type": "display_data",
          "data": {
            "text/plain": [
              "<Figure size 432x288 with 1 Axes>"
            ],
            "image/png": "[encoded data removed]"
          },
          "metadata": {
            "needs_background": "light"
          }
        }
      ]
    },
    {
      "cell_type": "markdown",
      "source": [
        "Si bien se ha dividido bastante la data (100 bins), lamentablemente la forma del histograma indica que el valor mínimo de ventas es bastante alto. Muy cercano a los valores mínimos, se ve el peak y desde ese punto va decayendo hasta que toma la curva normal que debería mostrar un histograma equilibrado a la derecha. Se debe analizar en profundidad la data para detectar el porqué de este fenómeno.  "
      ],
      "metadata": {
        "id": "OvJQO6yeHIa4"
      }
    },
    {
      "cell_type": "code",
      "source": [
        "ventas_df['Item_Weight'].hist(bins = 40, color='purple');"
      ],
      "metadata": {
        "colab": {
          "base_uri": "https://localhost:8080/",
          "height": 265
        },
        "id": "jrC9kgZ03GED",
        "outputId": "f7719106-b7ec-4bf9-8f16-97e9c6030685"
      },
      "execution_count": 72,
      "outputs": [
        {
          "output_type": "display_data",
          "data": {
            "text/plain": [
              "<Figure size 432x288 with 1 Axes>"
            ],
            "image/png": "[encoded data removed]"
          },
          "metadata": {
            "needs_background": "light"
          }
        }
      ]
    },
    {
      "cell_type": "markdown",
      "source": [
        "Este histograma tiene una cantidad de valores extremos reducidos, ya que se no se ve la forma curva (acampanada) que suelen tener normalmente los histogramas. Tiene varios peaks que sobresalen, dando cuenta de una tendencia multimodal.  "
      ],
      "metadata": {
        "id": "t096zsKPIUY4"
      }
    },
    {
      "cell_type": "code",
      "source": [
        "ventas_df['Item_Visibility'].hist(bins = 40, color='gold');"
      ],
      "metadata": {
        "colab": {
          "base_uri": "https://localhost:8080/",
          "height": 267
        },
        "id": "S3BQfKZW37tl",
        "outputId": "7aabef4f-7b90-443f-8bf0-00d5e48e0538"
      },
      "execution_count": 70,
      "outputs": [
        {
          "output_type": "display_data",
          "data": {
            "text/plain": [
              "<Figure size 432x288 with 1 Axes>"
            ],
            "image/png": "[encoded data removed]"
          },
          "metadata": {
            "needs_background": "light"
          }
        }
      ]
    },
    {
      "cell_type": "markdown",
      "source": [
        "Este gráfico muestra que hay muchos productos que no tienen visibilidad, muchos que tienen muy poca y la visibilidad va decreciendo de ahí en adelante."
      ],
      "metadata": {
        "id": "oa8AqFMFI7eD"
      }
    },
    {
      "cell_type": "code",
      "source": [
        "ventas_df['Item_MRP'].hist(bins = 50, color='navy');"
      ],
      "metadata": {
        "colab": {
          "base_uri": "https://localhost:8080/",
          "height": 265
        },
        "id": "sAXyyNw94UI-",
        "outputId": "a50d36ad-6a8a-4ead-d994-08df187f2353"
      },
      "execution_count": 55,
      "outputs": [
        {
          "output_type": "display_data",
          "data": {
            "text/plain": [
              "<Figure size 432x288 with 1 Axes>"
            ],
            "image/png": "[encoded data removed]"
          },
          "metadata": {
            "needs_background": "light"
          }
        }
      ]
    },
    {
      "cell_type": "markdown",
      "source": [
        "Este gráfico presenta una tendencia multimodal similar a la del gráfico de color morado. Es importante destacar la ausencia de datos en intervalos regulares. Sería interesante indagar en qué condiciones se generan histogramas de esta naturaleza. (Lo que se escapa a mi actual conocimiento.) "
      ],
      "metadata": {
        "id": "xkVwQXGRJ3vS"
      }
    },
    {
      "cell_type": "code",
      "source": [
        "plt.hist(ventas_df['Item_Outlet_Sales'], bins = 200, color='orange');\n",
        "# Sin grilla"
      ],
      "metadata": {
        "id": "sk_U_7IEBrgH"
      },
      "execution_count": null,
      "outputs": []
    }
  ]
}